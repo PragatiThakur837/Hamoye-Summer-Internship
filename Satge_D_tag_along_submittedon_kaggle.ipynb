{
  "nbformat": 4,
  "nbformat_minor": 0,
  "metadata": {
    "colab": {
      "provenance": [],
      "collapsed_sections": []
    },
    "kernelspec": {
      "name": "python3",
      "display_name": "Python 3"
    },
    "language_info": {
      "name": "python"
    }
  },
  "cells": [
    {
      "cell_type": "code",
      "execution_count": 7,
      "metadata": {
        "id": "YHYuovczjArl"
      },
      "outputs": [],
      "source": [
        "import numpy as np\n",
        "import pandas as pd"
      ]
    },
    {
      "cell_type": "code",
      "source": [
        "train_classes = pd.read_csv('/content/train_v2.csv')\n",
        "train_classes.head()"
      ],
      "metadata": {
        "colab": {
          "base_uri": "https://localhost:8080/",
          "height": 206
        },
        "id": "-J5mOb-lks8Z",
        "outputId": "e5a0c57b-03e7-4a7d-d076-fa85e74c15d2"
      },
      "execution_count": 8,
      "outputs": [
        {
          "output_type": "execute_result",
          "data": {
            "text/plain": [
              "  image_name                                       tags\n",
              "0    train_0                               haze primary\n",
              "1    train_1            agriculture clear primary water\n",
              "2    train_2                              clear primary\n",
              "3    train_3                              clear primary\n",
              "4    train_4  agriculture clear habitation primary road"
            ],
            "text/html": [
              "\n",
              "  <div id=\"df-4b88e97a-cee4-4afd-9d5b-166ecb08ecc2\">\n",
              "    <div class=\"colab-df-container\">\n",
              "      <div>\n",
              "<style scoped>\n",
              "    .dataframe tbody tr th:only-of-type {\n",
              "        vertical-align: middle;\n",
              "    }\n",
              "\n",
              "    .dataframe tbody tr th {\n",
              "        vertical-align: top;\n",
              "    }\n",
              "\n",
              "    .dataframe thead th {\n",
              "        text-align: right;\n",
              "    }\n",
              "</style>\n",
              "<table border=\"1\" class=\"dataframe\">\n",
              "  <thead>\n",
              "    <tr style=\"text-align: right;\">\n",
              "      <th></th>\n",
              "      <th>image_name</th>\n",
              "      <th>tags</th>\n",
              "    </tr>\n",
              "  </thead>\n",
              "  <tbody>\n",
              "    <tr>\n",
              "      <th>0</th>\n",
              "      <td>train_0</td>\n",
              "      <td>haze primary</td>\n",
              "    </tr>\n",
              "    <tr>\n",
              "      <th>1</th>\n",
              "      <td>train_1</td>\n",
              "      <td>agriculture clear primary water</td>\n",
              "    </tr>\n",
              "    <tr>\n",
              "      <th>2</th>\n",
              "      <td>train_2</td>\n",
              "      <td>clear primary</td>\n",
              "    </tr>\n",
              "    <tr>\n",
              "      <th>3</th>\n",
              "      <td>train_3</td>\n",
              "      <td>clear primary</td>\n",
              "    </tr>\n",
              "    <tr>\n",
              "      <th>4</th>\n",
              "      <td>train_4</td>\n",
              "      <td>agriculture clear habitation primary road</td>\n",
              "    </tr>\n",
              "  </tbody>\n",
              "</table>\n",
              "</div>\n",
              "      <button class=\"colab-df-convert\" onclick=\"convertToInteractive('df-4b88e97a-cee4-4afd-9d5b-166ecb08ecc2')\"\n",
              "              title=\"Convert this dataframe to an interactive table.\"\n",
              "              style=\"display:none;\">\n",
              "        \n",
              "  <svg xmlns=\"http://www.w3.org/2000/svg\" height=\"24px\"viewBox=\"0 0 24 24\"\n",
              "       width=\"24px\">\n",
              "    <path d=\"M0 0h24v24H0V0z\" fill=\"none\"/>\n",
              "    <path d=\"M18.56 5.44l.94 2.06.94-2.06 2.06-.94-2.06-.94-.94-2.06-.94 2.06-2.06.94zm-11 1L8.5 8.5l.94-2.06 2.06-.94-2.06-.94L8.5 2.5l-.94 2.06-2.06.94zm10 10l.94 2.06.94-2.06 2.06-.94-2.06-.94-.94-2.06-.94 2.06-2.06.94z\"/><path d=\"M17.41 7.96l-1.37-1.37c-.4-.4-.92-.59-1.43-.59-.52 0-1.04.2-1.43.59L10.3 9.45l-7.72 7.72c-.78.78-.78 2.05 0 2.83L4 21.41c.39.39.9.59 1.41.59.51 0 1.02-.2 1.41-.59l7.78-7.78 2.81-2.81c.8-.78.8-2.07 0-2.86zM5.41 20L4 18.59l7.72-7.72 1.47 1.35L5.41 20z\"/>\n",
              "  </svg>\n",
              "      </button>\n",
              "      \n",
              "  <style>\n",
              "    .colab-df-container {\n",
              "      display:flex;\n",
              "      flex-wrap:wrap;\n",
              "      gap: 12px;\n",
              "    }\n",
              "\n",
              "    .colab-df-convert {\n",
              "      background-color: #E8F0FE;\n",
              "      border: none;\n",
              "      border-radius: 50%;\n",
              "      cursor: pointer;\n",
              "      display: none;\n",
              "      fill: #1967D2;\n",
              "      height: 32px;\n",
              "      padding: 0 0 0 0;\n",
              "      width: 32px;\n",
              "    }\n",
              "\n",
              "    .colab-df-convert:hover {\n",
              "      background-color: #E2EBFA;\n",
              "      box-shadow: 0px 1px 2px rgba(60, 64, 67, 0.3), 0px 1px 3px 1px rgba(60, 64, 67, 0.15);\n",
              "      fill: #174EA6;\n",
              "    }\n",
              "\n",
              "    [theme=dark] .colab-df-convert {\n",
              "      background-color: #3B4455;\n",
              "      fill: #D2E3FC;\n",
              "    }\n",
              "\n",
              "    [theme=dark] .colab-df-convert:hover {\n",
              "      background-color: #434B5C;\n",
              "      box-shadow: 0px 1px 3px 1px rgba(0, 0, 0, 0.15);\n",
              "      filter: drop-shadow(0px 1px 2px rgba(0, 0, 0, 0.3));\n",
              "      fill: #FFFFFF;\n",
              "    }\n",
              "  </style>\n",
              "\n",
              "      <script>\n",
              "        const buttonEl =\n",
              "          document.querySelector('#df-4b88e97a-cee4-4afd-9d5b-166ecb08ecc2 button.colab-df-convert');\n",
              "        buttonEl.style.display =\n",
              "          google.colab.kernel.accessAllowed ? 'block' : 'none';\n",
              "\n",
              "        async function convertToInteractive(key) {\n",
              "          const element = document.querySelector('#df-4b88e97a-cee4-4afd-9d5b-166ecb08ecc2');\n",
              "          const dataTable =\n",
              "            await google.colab.kernel.invokeFunction('convertToInteractive',\n",
              "                                                     [key], {});\n",
              "          if (!dataTable) return;\n",
              "\n",
              "          const docLinkHtml = 'Like what you see? Visit the ' +\n",
              "            '<a target=\"_blank\" href=https://colab.research.google.com/notebooks/data_table.ipynb>data table notebook</a>'\n",
              "            + ' to learn more about interactive tables.';\n",
              "          element.innerHTML = '';\n",
              "          dataTable['output_type'] = 'display_data';\n",
              "          await google.colab.output.renderOutput(dataTable, element);\n",
              "          const docLink = document.createElement('div');\n",
              "          docLink.innerHTML = docLinkHtml;\n",
              "          element.appendChild(docLink);\n",
              "        }\n",
              "      </script>\n",
              "    </div>\n",
              "  </div>\n",
              "  "
            ]
          },
          "metadata": {},
          "execution_count": 8
        }
      ]
    },
    {
      "cell_type": "code",
      "source": [
        "!unzip train-jpg.zip"
      ],
      "metadata": {
        "id": "HClPPNwjGNQl"
      },
      "execution_count": null,
      "outputs": []
    },
    {
      "cell_type": "code",
      "source": [
        "!unzip test-jpg.zip"
      ],
      "metadata": {
        "id": "LVRkKLBzNsJU"
      },
      "execution_count": null,
      "outputs": []
    },
    {
      "cell_type": "code",
      "source": [
        "#define a function to split the tags and store a set of the tags in a variable called labels.\n",
        "#set is used to return the unique labels in the tags\n",
        "labels = set()\n",
        "def splitting_tags(tags):\n",
        "    for tag in tags.split():\n",
        "        labels.add(tag)\n"
      ],
      "metadata": {
        "id": "y_cU9GtSkzLz"
      },
      "execution_count": null,
      "outputs": []
    },
    {
      "cell_type": "code",
      "source": [
        "#we redefine the train_classes by creating a copy of it so as not to overwrite the existing one. \n",
        "#so a copy of the train classes is stored in the variable train_classes1, we convert labels which is a set to a list.\n",
        "train_classes1 = train_classes.copy()\n",
        "train_classes1['tags'].apply(splitting_tags)\n",
        "labels = list(labels)\n",
        "print(labels)"
      ],
      "metadata": {
        "colab": {
          "base_uri": "https://localhost:8080/"
        },
        "id": "GhIaDGp7k4Hi",
        "outputId": "3d40da0e-3163-435c-8662-461a3de354df"
      },
      "execution_count": null,
      "outputs": [
        {
          "output_type": "stream",
          "name": "stdout",
          "text": [
            "['water', 'bare_ground', 'blooming', 'selective_logging', 'cultivation', 'agriculture', 'habitation', 'artisinal_mine', 'clear', 'haze', 'partly_cloudy', 'slash_burn', 'blow_down', 'primary', 'conventional_mine', 'cloudy', 'road']\n"
          ]
        }
      ]
    },
    {
      "cell_type": "code",
      "source": [
        "#assert  that the length of the dataframe is the same as the shape\n",
        "assert len(train_classes1['image_name'].unique()) == train_classes1.shape[0]"
      ],
      "metadata": {
        "id": "PTPGTAurk6gG"
      },
      "execution_count": null,
      "outputs": []
    },
    {
      "cell_type": "code",
      "source": [
        "##One hot encoding is performed on the labels in train classes\n",
        "for tag in labels:\n",
        "    train_classes1[tag] = train_classes1['tags'].apply(lambda x: 1 if tag in x.split() else 0)\n",
        "    \n",
        "## adding .jpg extension to the column image_name so as to have same name format as the image files\n",
        "train_classes1['image_name'] = train_classes1['image_name'].apply(lambda x: '{}.jpg'.format(x))\n",
        "train_classes1.head()"
      ],
      "metadata": {
        "colab": {
          "base_uri": "https://localhost:8080/",
          "height": 444
        },
        "id": "K5rBoqB1rPx8",
        "outputId": "3ef19aa9-a5d7-4645-c3be-74a44b84b9d4"
      },
      "execution_count": null,
      "outputs": [
        {
          "output_type": "execute_result",
          "data": {
            "text/plain": [
              "    image_name                                       tags  water  bare_ground  \\\n",
              "0  train_0.jpg                               haze primary      0            0   \n",
              "1  train_1.jpg            agriculture clear primary water      1            0   \n",
              "2  train_2.jpg                              clear primary      0            0   \n",
              "3  train_3.jpg                              clear primary      0            0   \n",
              "4  train_4.jpg  agriculture clear habitation primary road      0            0   \n",
              "\n",
              "   blooming  selective_logging  cultivation  agriculture  habitation  \\\n",
              "0         0                  0            0            0           0   \n",
              "1         0                  0            0            1           0   \n",
              "2         0                  0            0            0           0   \n",
              "3         0                  0            0            0           0   \n",
              "4         0                  0            0            1           1   \n",
              "\n",
              "   artisinal_mine  clear  haze  partly_cloudy  slash_burn  blow_down  primary  \\\n",
              "0               0      0     1              0           0          0        1   \n",
              "1               0      1     0              0           0          0        1   \n",
              "2               0      1     0              0           0          0        1   \n",
              "3               0      1     0              0           0          0        1   \n",
              "4               0      1     0              0           0          0        1   \n",
              "\n",
              "   conventional_mine  cloudy  road  \n",
              "0                  0       0     0  \n",
              "1                  0       0     0  \n",
              "2                  0       0     0  \n",
              "3                  0       0     0  \n",
              "4                  0       0     1  "
            ],
            "text/html": [
              "\n",
              "  <div id=\"df-12350170-a2a7-49b8-8679-8512f16c2e68\">\n",
              "    <div class=\"colab-df-container\">\n",
              "      <div>\n",
              "<style scoped>\n",
              "    .dataframe tbody tr th:only-of-type {\n",
              "        vertical-align: middle;\n",
              "    }\n",
              "\n",
              "    .dataframe tbody tr th {\n",
              "        vertical-align: top;\n",
              "    }\n",
              "\n",
              "    .dataframe thead th {\n",
              "        text-align: right;\n",
              "    }\n",
              "</style>\n",
              "<table border=\"1\" class=\"dataframe\">\n",
              "  <thead>\n",
              "    <tr style=\"text-align: right;\">\n",
              "      <th></th>\n",
              "      <th>image_name</th>\n",
              "      <th>tags</th>\n",
              "      <th>water</th>\n",
              "      <th>bare_ground</th>\n",
              "      <th>blooming</th>\n",
              "      <th>selective_logging</th>\n",
              "      <th>cultivation</th>\n",
              "      <th>agriculture</th>\n",
              "      <th>habitation</th>\n",
              "      <th>artisinal_mine</th>\n",
              "      <th>clear</th>\n",
              "      <th>haze</th>\n",
              "      <th>partly_cloudy</th>\n",
              "      <th>slash_burn</th>\n",
              "      <th>blow_down</th>\n",
              "      <th>primary</th>\n",
              "      <th>conventional_mine</th>\n",
              "      <th>cloudy</th>\n",
              "      <th>road</th>\n",
              "    </tr>\n",
              "  </thead>\n",
              "  <tbody>\n",
              "    <tr>\n",
              "      <th>0</th>\n",
              "      <td>train_0.jpg</td>\n",
              "      <td>haze primary</td>\n",
              "      <td>0</td>\n",
              "      <td>0</td>\n",
              "      <td>0</td>\n",
              "      <td>0</td>\n",
              "      <td>0</td>\n",
              "      <td>0</td>\n",
              "      <td>0</td>\n",
              "      <td>0</td>\n",
              "      <td>0</td>\n",
              "      <td>1</td>\n",
              "      <td>0</td>\n",
              "      <td>0</td>\n",
              "      <td>0</td>\n",
              "      <td>1</td>\n",
              "      <td>0</td>\n",
              "      <td>0</td>\n",
              "      <td>0</td>\n",
              "    </tr>\n",
              "    <tr>\n",
              "      <th>1</th>\n",
              "      <td>train_1.jpg</td>\n",
              "      <td>agriculture clear primary water</td>\n",
              "      <td>1</td>\n",
              "      <td>0</td>\n",
              "      <td>0</td>\n",
              "      <td>0</td>\n",
              "      <td>0</td>\n",
              "      <td>1</td>\n",
              "      <td>0</td>\n",
              "      <td>0</td>\n",
              "      <td>1</td>\n",
              "      <td>0</td>\n",
              "      <td>0</td>\n",
              "      <td>0</td>\n",
              "      <td>0</td>\n",
              "      <td>1</td>\n",
              "      <td>0</td>\n",
              "      <td>0</td>\n",
              "      <td>0</td>\n",
              "    </tr>\n",
              "    <tr>\n",
              "      <th>2</th>\n",
              "      <td>train_2.jpg</td>\n",
              "      <td>clear primary</td>\n",
              "      <td>0</td>\n",
              "      <td>0</td>\n",
              "      <td>0</td>\n",
              "      <td>0</td>\n",
              "      <td>0</td>\n",
              "      <td>0</td>\n",
              "      <td>0</td>\n",
              "      <td>0</td>\n",
              "      <td>1</td>\n",
              "      <td>0</td>\n",
              "      <td>0</td>\n",
              "      <td>0</td>\n",
              "      <td>0</td>\n",
              "      <td>1</td>\n",
              "      <td>0</td>\n",
              "      <td>0</td>\n",
              "      <td>0</td>\n",
              "    </tr>\n",
              "    <tr>\n",
              "      <th>3</th>\n",
              "      <td>train_3.jpg</td>\n",
              "      <td>clear primary</td>\n",
              "      <td>0</td>\n",
              "      <td>0</td>\n",
              "      <td>0</td>\n",
              "      <td>0</td>\n",
              "      <td>0</td>\n",
              "      <td>0</td>\n",
              "      <td>0</td>\n",
              "      <td>0</td>\n",
              "      <td>1</td>\n",
              "      <td>0</td>\n",
              "      <td>0</td>\n",
              "      <td>0</td>\n",
              "      <td>0</td>\n",
              "      <td>1</td>\n",
              "      <td>0</td>\n",
              "      <td>0</td>\n",
              "      <td>0</td>\n",
              "    </tr>\n",
              "    <tr>\n",
              "      <th>4</th>\n",
              "      <td>train_4.jpg</td>\n",
              "      <td>agriculture clear habitation primary road</td>\n",
              "      <td>0</td>\n",
              "      <td>0</td>\n",
              "      <td>0</td>\n",
              "      <td>0</td>\n",
              "      <td>0</td>\n",
              "      <td>1</td>\n",
              "      <td>1</td>\n",
              "      <td>0</td>\n",
              "      <td>1</td>\n",
              "      <td>0</td>\n",
              "      <td>0</td>\n",
              "      <td>0</td>\n",
              "      <td>0</td>\n",
              "      <td>1</td>\n",
              "      <td>0</td>\n",
              "      <td>0</td>\n",
              "      <td>1</td>\n",
              "    </tr>\n",
              "  </tbody>\n",
              "</table>\n",
              "</div>\n",
              "      <button class=\"colab-df-convert\" onclick=\"convertToInteractive('df-12350170-a2a7-49b8-8679-8512f16c2e68')\"\n",
              "              title=\"Convert this dataframe to an interactive table.\"\n",
              "              style=\"display:none;\">\n",
              "        \n",
              "  <svg xmlns=\"http://www.w3.org/2000/svg\" height=\"24px\"viewBox=\"0 0 24 24\"\n",
              "       width=\"24px\">\n",
              "    <path d=\"M0 0h24v24H0V0z\" fill=\"none\"/>\n",
              "    <path d=\"M18.56 5.44l.94 2.06.94-2.06 2.06-.94-2.06-.94-.94-2.06-.94 2.06-2.06.94zm-11 1L8.5 8.5l.94-2.06 2.06-.94-2.06-.94L8.5 2.5l-.94 2.06-2.06.94zm10 10l.94 2.06.94-2.06 2.06-.94-2.06-.94-.94-2.06-.94 2.06-2.06.94z\"/><path d=\"M17.41 7.96l-1.37-1.37c-.4-.4-.92-.59-1.43-.59-.52 0-1.04.2-1.43.59L10.3 9.45l-7.72 7.72c-.78.78-.78 2.05 0 2.83L4 21.41c.39.39.9.59 1.41.59.51 0 1.02-.2 1.41-.59l7.78-7.78 2.81-2.81c.8-.78.8-2.07 0-2.86zM5.41 20L4 18.59l7.72-7.72 1.47 1.35L5.41 20z\"/>\n",
              "  </svg>\n",
              "      </button>\n",
              "      \n",
              "  <style>\n",
              "    .colab-df-container {\n",
              "      display:flex;\n",
              "      flex-wrap:wrap;\n",
              "      gap: 12px;\n",
              "    }\n",
              "\n",
              "    .colab-df-convert {\n",
              "      background-color: #E8F0FE;\n",
              "      border: none;\n",
              "      border-radius: 50%;\n",
              "      cursor: pointer;\n",
              "      display: none;\n",
              "      fill: #1967D2;\n",
              "      height: 32px;\n",
              "      padding: 0 0 0 0;\n",
              "      width: 32px;\n",
              "    }\n",
              "\n",
              "    .colab-df-convert:hover {\n",
              "      background-color: #E2EBFA;\n",
              "      box-shadow: 0px 1px 2px rgba(60, 64, 67, 0.3), 0px 1px 3px 1px rgba(60, 64, 67, 0.15);\n",
              "      fill: #174EA6;\n",
              "    }\n",
              "\n",
              "    [theme=dark] .colab-df-convert {\n",
              "      background-color: #3B4455;\n",
              "      fill: #D2E3FC;\n",
              "    }\n",
              "\n",
              "    [theme=dark] .colab-df-convert:hover {\n",
              "      background-color: #434B5C;\n",
              "      box-shadow: 0px 1px 3px 1px rgba(0, 0, 0, 0.15);\n",
              "      filter: drop-shadow(0px 1px 2px rgba(0, 0, 0, 0.3));\n",
              "      fill: #FFFFFF;\n",
              "    }\n",
              "  </style>\n",
              "\n",
              "      <script>\n",
              "        const buttonEl =\n",
              "          document.querySelector('#df-12350170-a2a7-49b8-8679-8512f16c2e68 button.colab-df-convert');\n",
              "        buttonEl.style.display =\n",
              "          google.colab.kernel.accessAllowed ? 'block' : 'none';\n",
              "\n",
              "        async function convertToInteractive(key) {\n",
              "          const element = document.querySelector('#df-12350170-a2a7-49b8-8679-8512f16c2e68');\n",
              "          const dataTable =\n",
              "            await google.colab.kernel.invokeFunction('convertToInteractive',\n",
              "                                                     [key], {});\n",
              "          if (!dataTable) return;\n",
              "\n",
              "          const docLinkHtml = 'Like what you see? Visit the ' +\n",
              "            '<a target=\"_blank\" href=https://colab.research.google.com/notebooks/data_table.ipynb>data table notebook</a>'\n",
              "            + ' to learn more about interactive tables.';\n",
              "          element.innerHTML = '';\n",
              "          dataTable['output_type'] = 'display_data';\n",
              "          await google.colab.output.renderOutput(dataTable, element);\n",
              "          const docLink = document.createElement('div');\n",
              "          docLink.innerHTML = docLinkHtml;\n",
              "          element.appendChild(docLink);\n",
              "        }\n",
              "      </script>\n",
              "    </div>\n",
              "  </div>\n",
              "  "
            ]
          },
          "metadata": {},
          "execution_count": 25
        }
      ]
    },
    {
      "cell_type": "code",
      "source": [
        "#importing tensorflow libraries for training the dataset\n",
        "import tensorflow as tf\n",
        "from tensorflow.keras.models import Sequential\n",
        "from tensorflow.keras.layers import Dense, BatchNormalization, Conv2D, MaxPooling2D\n",
        "from tensorflow.keras.layers import Dropout, Flatten\n",
        "from tensorflow.keras.optimizers import Adam, SGD\n",
        "from tensorflow.keras.callbacks import EarlyStopping, ModelCheckpoint, TensorBoard\n",
        "from tensorflow.keras.preprocessing.image import ImageDataGenerator"
      ],
      "metadata": {
        "id": "f6DfEj5LrS6K"
      },
      "execution_count": null,
      "outputs": []
    },
    {
      "cell_type": "code",
      "source": [
        "#defining the columns, that is the labels that were newly added to the train_classes via hot encoding.\n",
        "columns = list(train_classes1.columns[2:]) #from index 2 to the end defines the columns"
      ],
      "metadata": {
        "id": "GZz1FzQGrW-2"
      },
      "execution_count": null,
      "outputs": []
    },
    {
      "cell_type": "code",
      "source": [
        "columns"
      ],
      "metadata": {
        "colab": {
          "base_uri": "https://localhost:8080/"
        },
        "id": "SlY3GqucrbDW",
        "outputId": "bba07342-4dd8-427d-b674-c6e99c7dd009"
      },
      "execution_count": null,
      "outputs": [
        {
          "output_type": "execute_result",
          "data": {
            "text/plain": [
              "['water',\n",
              " 'bare_ground',\n",
              " 'blooming',\n",
              " 'selective_logging',\n",
              " 'cultivation',\n",
              " 'agriculture',\n",
              " 'habitation',\n",
              " 'artisinal_mine',\n",
              " 'clear',\n",
              " 'haze',\n",
              " 'partly_cloudy',\n",
              " 'slash_burn',\n",
              " 'blow_down',\n",
              " 'primary',\n",
              " 'conventional_mine',\n",
              " 'cloudy',\n",
              " 'road']"
            ]
          },
          "metadata": {},
          "execution_count": 28
        }
      ]
    },
    {
      "cell_type": "code",
      "source": [
        "#define a function for fbeta scoring\n",
        "def fbeta(y_true, y_pred, beta = 2, epsilon = 1e-4):\n",
        "    \n",
        "    beta_squared = beta**2\n",
        "    \n",
        "    y_true = tf.cast(y_true, tf.float32)\n",
        "    y_pred = tf.cast(tf.greater(tf.cast(y_pred, tf.float32), tf.constant(0.5)), tf.float32)\n",
        "    \n",
        "    tp = tf.reduce_sum(y_true * y_pred, axis = 1)\n",
        "    fp = tf.reduce_sum(y_pred, axis = 1) - tp\n",
        "    fn = tf.reduce_sum(y_true, axis = 1) - tp\n",
        "    \n",
        "    precision = tp/(tp+fp+epsilon)\n",
        "    recall = tp/(tp+fn+epsilon)\n",
        "    \n",
        "    fb = (1+beta_squared)*precision*recall / (beta_squared*precision+recall+epsilon)\n",
        "    return fb"
      ],
      "metadata": {
        "id": "t96zRBZ-re_5"
      },
      "execution_count": null,
      "outputs": []
    },
    {
      "cell_type": "code",
      "source": [
        "#define a function for accuracy for multi_label classification\n",
        "def multi_label_acc(y_true, y_pred, epsilon = 1e-4):\n",
        "    \n",
        "    y_true = tf.cast(y_true, tf.float32)\n",
        "    y_pred = tf.cast(tf.greater(tf.cast(y_pred, tf.float32), tf.constant(0.5)), tf.float32)\n",
        "    \n",
        "    tp = tf.reduce_sum(y_true * y_pred, axis = 1)\n",
        "    fp = tf.reduce_sum(y_pred, axis = 1) - tp\n",
        "    fn = tf.reduce_sum(y_true, axis = 1) - tp\n",
        "    \n",
        "    y_true = tf.cast(y_true, tf.bool)\n",
        "    y_pred = tf.cast(y_pred, tf.bool)\n",
        "        \n",
        "    tn = tf.reduce_sum(tf.cast(tf.logical_not(y_true), tf.float32) * tf.cast(tf.logical_not(y_pred), tf.float32), \n",
        "                       axis = 1)\n",
        "    return (tp+tn)/(tp+tn+fp+fn+epsilon)"
      ],
      "metadata": {
        "id": "icTB0ym9rhlu"
      },
      "execution_count": null,
      "outputs": []
    },
    {
      "cell_type": "code",
      "source": [
        "#defining our model using a function build_model()\n",
        "def build_model():\n",
        "    model = Sequential()\n",
        "    model.add(BatchNormalization(input_shape=(128, 128, 3)))\n",
        "    model.add(Conv2D(32, kernel_size=(3, 3), padding='same', activation='relu'))\n",
        "    model.add(Conv2D(32, kernel_size=(3, 3), activation='relu'))\n",
        "    model.add(MaxPooling2D(pool_size=(2, 2)))\n",
        "    model.add(Dropout(0.2))\n",
        "\n",
        "    model.add(Conv2D(64, kernel_size=(3, 3), padding='same', activation='relu'))\n",
        "    model.add(Conv2D(64, kernel_size=(3, 3), activation='relu'))\n",
        "    model.add(MaxPooling2D(pool_size=(2, 2)))\n",
        "    model.add(Dropout(0.2))\n",
        "\n",
        "    model.add(Conv2D(128, kernel_size=(3, 3), padding='same', activation='relu'))\n",
        "    model.add(Conv2D(128, kernel_size=(3, 3), activation='relu'))\n",
        "    model.add(MaxPooling2D(pool_size=(2, 2)))\n",
        "    model.add(Dropout(0.2))\n",
        "\n",
        "    model.add(Conv2D(256, kernel_size=(3, 3), padding='same', activation='relu'))\n",
        "    model.add(Conv2D(256, kernel_size=(3, 3), activation='relu'))\n",
        "    model.add(MaxPooling2D(pool_size=(2, 2)))\n",
        "    model.add(Dropout(0.2))\n",
        "\n",
        "    model.add(Flatten())\n",
        "    model.add(Dense(512, activation='relu'))\n",
        "    model.add(Dropout(0.5))\n",
        "    model.add(Dense(17, activation='sigmoid'))\n",
        "\n",
        "    opt = Adam(lr=1e-4)\n",
        "\n",
        "    model.compile(loss='binary_crossentropy',\n",
        "              # We NEED binary here, since categorical_crossentropy l1 norms the output before calculating loss.\n",
        "              optimizer=opt,\n",
        "              metrics=[multi_label_acc, fbeta])\n",
        "\n",
        "    return model"
      ],
      "metadata": {
        "id": "kOjLO7bKrkiu"
      },
      "execution_count": null,
      "outputs": []
    },
    {
      "cell_type": "code",
      "source": [
        "#modelcheckpoint is set to monitor the model using validation fbeta score and save the best only\n",
        "save_best_check_point = ModelCheckpoint(filepath = 'best_model.hdf5', monitor = 'val_fbeta', mode = 'max',\n",
        "                                       save_best_only = True, save_weights_only = True)"
      ],
      "metadata": {
        "id": "EnITotTvrpMY"
      },
      "execution_count": null,
      "outputs": []
    },
    {
      "cell_type": "code",
      "source": [
        "#initializing imagedatagenerator with a validation split of 0.2\n",
        "train_image_gen = ImageDataGenerator(rescale = 1/255, validation_split = 0.2)\n",
        "\n",
        "#generating train data generator which is 80% of the train dataset\n",
        "#note that a generator contains both features and target of the data\n",
        "train_generator = train_image_gen.flow_from_dataframe(dataframe=train_classes1,\n",
        "                                                directory =\"/content/train-jpg\",  \n",
        "                                                x_col=\"image_name\", y_col=columns, subset=\"training\", \n",
        "                                                batch_size=16,seed=2021, shuffle=True, \n",
        "                                                class_mode=\"raw\", target_size=(128,128))\n",
        "\n",
        "#generating validation data which is expected to be 20% of the train dataset since validation split is 0.2\n",
        "val_generator = train_image_gen.flow_from_dataframe(dataframe=train_classes1,\n",
        "                                                directory =\"/content/train-jpg\",  \n",
        "                                                x_col=\"image_name\", y_col=columns, subset=\"validation\", \n",
        "                                                batch_size=16,seed=2021, shuffle=True, \n",
        "                                                class_mode=\"raw\", target_size=(128,128))"
      ],
      "metadata": {
        "id": "hqDEhItarrrq"
      },
      "execution_count": null,
      "outputs": []
    },
    {
      "cell_type": "code",
      "source": [],
      "metadata": {
        "id": "8W3FU5KPrvmF"
      },
      "execution_count": null,
      "outputs": []
    },
    {
      "cell_type": "code",
      "source": [
        "#initializing the model\n",
        "model1 = build_model()"
      ],
      "metadata": {
        "id": "Kb2kOR4zuVuG"
      },
      "execution_count": null,
      "outputs": []
    },
    {
      "cell_type": "code",
      "source": [
        "#this shows the summary of the model, simply put as the model architecture\n",
        "model1.summary()"
      ],
      "metadata": {
        "colab": {
          "base_uri": "https://localhost:8080/"
        },
        "id": "KZ5kXVznuX0i",
        "outputId": "9d98e124-2812-4ce4-c2fc-18419cffd2b9"
      },
      "execution_count": null,
      "outputs": [
        {
          "output_type": "stream",
          "name": "stdout",
          "text": [
            "Model: \"sequential_1\"\n",
            "_________________________________________________________________\n",
            " Layer (type)                Output Shape              Param #   \n",
            "=================================================================\n",
            " batch_normalization_1 (Batc  (None, 128, 128, 3)      12        \n",
            " hNormalization)                                                 \n",
            "                                                                 \n",
            " conv2d_8 (Conv2D)           (None, 128, 128, 32)      896       \n",
            "                                                                 \n",
            " conv2d_9 (Conv2D)           (None, 126, 126, 32)      9248      \n",
            "                                                                 \n",
            " max_pooling2d_4 (MaxPooling  (None, 63, 63, 32)       0         \n",
            " 2D)                                                             \n",
            "                                                                 \n",
            " dropout_5 (Dropout)         (None, 63, 63, 32)        0         \n",
            "                                                                 \n",
            " conv2d_10 (Conv2D)          (None, 63, 63, 64)        18496     \n",
            "                                                                 \n",
            " conv2d_11 (Conv2D)          (None, 61, 61, 64)        36928     \n",
            "                                                                 \n",
            " max_pooling2d_5 (MaxPooling  (None, 30, 30, 64)       0         \n",
            " 2D)                                                             \n",
            "                                                                 \n",
            " dropout_6 (Dropout)         (None, 30, 30, 64)        0         \n",
            "                                                                 \n",
            " conv2d_12 (Conv2D)          (None, 30, 30, 128)       73856     \n",
            "                                                                 \n",
            " conv2d_13 (Conv2D)          (None, 28, 28, 128)       147584    \n",
            "                                                                 \n",
            " max_pooling2d_6 (MaxPooling  (None, 14, 14, 128)      0         \n",
            " 2D)                                                             \n",
            "                                                                 \n",
            " dropout_7 (Dropout)         (None, 14, 14, 128)       0         \n",
            "                                                                 \n",
            " conv2d_14 (Conv2D)          (None, 14, 14, 256)       295168    \n",
            "                                                                 \n",
            " conv2d_15 (Conv2D)          (None, 12, 12, 256)       590080    \n",
            "                                                                 \n",
            " max_pooling2d_7 (MaxPooling  (None, 6, 6, 256)        0         \n",
            " 2D)                                                             \n",
            "                                                                 \n",
            " dropout_8 (Dropout)         (None, 6, 6, 256)         0         \n",
            "                                                                 \n",
            " flatten_1 (Flatten)         (None, 9216)              0         \n",
            "                                                                 \n",
            " dense_2 (Dense)             (None, 512)               4719104   \n",
            "                                                                 \n",
            " dropout_9 (Dropout)         (None, 512)               0         \n",
            "                                                                 \n",
            " dense_3 (Dense)             (None, 17)                8721      \n",
            "                                                                 \n",
            "=================================================================\n",
            "Total params: 5,900,093\n",
            "Trainable params: 5,900,087\n",
            "Non-trainable params: 6\n",
            "_________________________________________________________________\n"
          ]
        }
      ]
    },
    {
      "cell_type": "code",
      "source": [
        "#fitting our model using the parameters already defined \n",
        "model1.fit(x = train_generator, steps_per_epoch = step_train_size, validation_data = val_generator, \n",
        "           validation_steps = step_val_size,epochs = 25, \n",
        "           callbacks = [save_best_check_point])"
      ],
      "metadata": {
        "id": "QycEk9mEuqG_"
      },
      "execution_count": null,
      "outputs": []
    },
    {
      "cell_type": "code",
      "source": [
        "#initializing a second model so we can make predictions\n",
        "model2 = build_model()"
      ],
      "metadata": {
        "id": "5WlZUrOYut63"
      },
      "execution_count": null,
      "outputs": []
    },
    {
      "cell_type": "code",
      "source": [
        "#we divide the sample submission file into two splits, first test1_df which contains the first 40669 images \n",
        "test1_df = sample_submission1.iloc[:40669]['image_name'].reset_index().drop('index', axis =1)\n",
        "test1_df.head()"
      ],
      "metadata": {
        "id": "4iV5MlX_MAiI"
      },
      "execution_count": null,
      "outputs": []
    },
    {
      "cell_type": "code",
      "source": [
        "#initializing imagedatagenerator for the test images and also rescaling\n",
        "test_image_gen = ImageDataGenerator(rescale = 1/255)\n",
        "\n",
        "\n",
        "#creating a generator for the images found in the first test image files\n",
        "test_generator1 = test_image_gen.flow_from_dataframe(dataframe=test1_df, \n",
        "                                                directory=\"/content/test-jpg\", \n",
        "                                                x_col=\"image_name\", y_col=None, batch_size=16, \n",
        "                                                shuffle=False, class_mode=None, target_size=(128,128))\n",
        "\n",
        "step_test_size1 = int(np.ceil(test_generator1.samples/test_generator1.batch_size))"
      ],
      "metadata": {
        "id": "gwr-dwhuMAVq"
      },
      "execution_count": null,
      "outputs": []
    },
    {
      "cell_type": "code",
      "source": [
        "#this is to get the filenames in the generator using the attribute .filenames\n",
        "file_names1 = test_generator1.filenames\n",
        "\n",
        "#convert the predicted values to a dataframe and join two labels together if the probability of occurrance \n",
        "#of the label is greater than 0.5 \n",
        "pred_tags1 = pd.DataFrame(pred1)\n",
        "pred_tags1 = pred_tags1.apply(lambda x: ' '.join(np.array(labels)[x>0.5]), axis = 1)\n",
        "\n",
        "#then the result should look like this \n",
        "result1 = pd.DataFrame({'image_name': file_names1, 'tags': pred_tags1})\n",
        "result1.head()"
      ],
      "metadata": {
        "id": "v6eEyRJeMAGB"
      },
      "execution_count": null,
      "outputs": []
    },
    {
      "cell_type": "code",
      "source": [
        "#second batch of the test dataset\n",
        "test2_df = sample_submission1.iloc[40669:]['image_name'].reset_index().drop('index', axis =1)\n",
        "test2_df.head()"
      ],
      "metadata": {
        "id": "zD5JB_ZjMJmF"
      },
      "execution_count": null,
      "outputs": []
    },
    {
      "cell_type": "code",
      "source": [
        "#creating a generator for the second batch of test image files\n",
        "test_generator2 = test_image_gen.flow_from_dataframe(dataframe=test2_df, \n",
        "                                                directory=\"/content/test-jpg-additional\", \n",
        "                                                x_col=\"image_name\", y_col=None, batch_size=16, \n",
        "                                                shuffle=False, class_mode=None, target_size=(128,128))\n",
        "\n",
        "step_test_size2 = int(np.ceil(test_generator2.samples/test_generator2.batch_size))"
      ],
      "metadata": {
        "id": "a7nq0XozMLym"
      },
      "execution_count": null,
      "outputs": []
    },
    {
      "cell_type": "code",
      "source": [
        "#we reset the generator to avoid shuffling, then make prediction on the generator\n",
        "test_generator2.reset()\n",
        "pred2 = model2.predict(test_generator2, steps = step_test_size2, verbose = 1)"
      ],
      "metadata": {
        "id": "keDSGNzAMScO"
      },
      "execution_count": null,
      "outputs": []
    },
    {
      "cell_type": "code",
      "source": [
        "#this is to get the filenames in the generator using the attribute .filenames\n",
        "file_names2 = test_generator2.filenames\n",
        "\n",
        "#convert the predicted values to a dataframe and join two labels together if the probability of occurrance \n",
        "#of the label is greater than 0.5\n",
        "pred_tags2 = pd.DataFrame(pred2)\n",
        "pred_tags2 = pred_tags2.apply(lambda x: ''.join(np.array(labels)[x>0.5]), axis = 1)\n",
        "\n",
        "#then the result should look like this\n",
        "result2 = pd.DataFrame({'image_name': file_names2, 'tags': pred_tags2})\n",
        "result2.head()"
      ],
      "metadata": {
        "id": "Ythbe0BcMSUe"
      },
      "execution_count": null,
      "outputs": []
    },
    {
      "cell_type": "code",
      "source": [
        "#for the final result of the predicted tags for the test images, we need to concat the first and second results in \n",
        "#that order to avoid shuffling the index\n",
        "last_result = pd.concat([result1, result2])\n",
        "\n",
        "last_result = last_result.reset_index().drop('index', axis =1)\n",
        "\n",
        "print(last_result.shape)\n",
        "#print the final result\n",
        "last_result.head()"
      ],
      "metadata": {
        "id": "6z9uT8BIMSDN"
      },
      "execution_count": null,
      "outputs": []
    },
    {
      "cell_type": "code",
      "source": [
        "last_result['image_name'] = last_result['image_name'].apply(lambda x: x[:-4])\n",
        "last_result.head()"
      ],
      "metadata": {
        "id": "MLaKW4rHMdXH"
      },
      "execution_count": null,
      "outputs": []
    },
    {
      "cell_type": "code",
      "source": [
        "last_result.to_csv('submission.csv', index = False)"
      ],
      "metadata": {
        "id": "hGVGEIu9Md2-"
      },
      "execution_count": null,
      "outputs": []
    }
  ]
}